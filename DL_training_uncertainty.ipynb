{
 "cells": [
  {
   "cell_type": "markdown",
   "metadata": {},
   "source": [
    "# Aleatory Uncertainty introduced by DL model training"
   ]
  },
  {
   "cell_type": "code",
   "execution_count": 23,
   "metadata": {},
   "outputs": [
    {
     "name": "stdout",
     "output_type": "stream",
     "text": [
      "Requirement already satisfied: torch in c:\\users\\emanuele.buchicchio\\appdata\\local\\programs\\python\\python39\\lib\\site-packages (1.10.2)\n",
      "Requirement already satisfied: matplotlib in c:\\users\\emanuele.buchicchio\\appdata\\local\\programs\\python\\python39\\lib\\site-packages (3.5.3)\n",
      "Requirement already satisfied: numpy in c:\\users\\emanuele.buchicchio\\appdata\\local\\programs\\python\\python39\\lib\\site-packages (1.23.2)\n",
      "Requirement already satisfied: typing-extensions in c:\\users\\emanuele.buchicchio\\appdata\\local\\programs\\python\\python39\\lib\\site-packages (from torch) (4.4.0)\n",
      "Requirement already satisfied: fonttools>=4.22.0 in c:\\users\\emanuele.buchicchio\\appdata\\local\\programs\\python\\python39\\lib\\site-packages (from matplotlib) (4.37.1)\n",
      "Requirement already satisfied: cycler>=0.10 in c:\\users\\emanuele.buchicchio\\appdata\\local\\programs\\python\\python39\\lib\\site-packages (from matplotlib) (0.11.0)\n",
      "Requirement already satisfied: pyparsing>=2.2.1 in c:\\users\\emanuele.buchicchio\\appdata\\local\\programs\\python\\python39\\lib\\site-packages (from matplotlib) (3.0.8)\n",
      "Requirement already satisfied: pillow>=6.2.0 in c:\\users\\emanuele.buchicchio\\appdata\\local\\programs\\python\\python39\\lib\\site-packages (from matplotlib) (9.2.0)\n",
      "Requirement already satisfied: packaging>=20.0 in c:\\users\\emanuele.buchicchio\\appdata\\local\\programs\\python\\python39\\lib\\site-packages (from matplotlib) (21.3)\n",
      "Requirement already satisfied: kiwisolver>=1.0.1 in c:\\users\\emanuele.buchicchio\\appdata\\local\\programs\\python\\python39\\lib\\site-packages (from matplotlib) (1.4.4)\n",
      "Requirement already satisfied: python-dateutil>=2.7 in c:\\users\\emanuele.buchicchio\\appdata\\local\\programs\\python\\python39\\lib\\site-packages (from matplotlib) (2.8.2)\n",
      "Requirement already satisfied: six>=1.5 in c:\\users\\emanuele.buchicchio\\appdata\\local\\programs\\python\\python39\\lib\\site-packages (from python-dateutil>=2.7->matplotlib) (1.16.0)\n",
      "Note: you may need to restart the kernel to use updated packages.\n"
     ]
    },
    {
     "name": "stderr",
     "output_type": "stream",
     "text": [
      "WARNING: You are using pip version 22.0.4; however, version 23.2.1 is available.\n",
      "You should consider upgrading via the 'c:\\Users\\emanuele.buchicchio\\AppData\\Local\\Programs\\Python\\Python39\\python.exe -m pip install --upgrade pip' command.\n"
     ]
    }
   ],
   "source": [
    "pip install torch matplotlib numpy"
   ]
  },
  {
   "cell_type": "markdown",
   "metadata": {},
   "source": [
    "## Aleatory uncertainty in regression"
   ]
  },
  {
   "cell_type": "code",
   "execution_count": 14,
   "metadata": {},
   "outputs": [
    {
     "name": "stdout",
     "output_type": "stream",
     "text": [
      "Optimizer 1: Epoch [100/1000], Loss: 1.2304\n",
      "Optimizer 1: Epoch [200/1000], Loss: 1.2150\n",
      "Optimizer 1: Epoch [300/1000], Loss: 1.1695\n",
      "Optimizer 1: Epoch [400/1000], Loss: 1.1136\n",
      "Optimizer 1: Epoch [500/1000], Loss: 1.0608\n",
      "Optimizer 1: Epoch [600/1000], Loss: 1.0352\n",
      "Optimizer 1: Epoch [700/1000], Loss: 1.0290\n",
      "Optimizer 1: Epoch [800/1000], Loss: 1.0282\n",
      "Optimizer 1: Epoch [900/1000], Loss: 1.0280\n",
      "Optimizer 1: Epoch [1000/1000], Loss: 1.0281\n",
      "Optimizer 2: Epoch [100/1000], Loss: 1.2534\n",
      "Optimizer 2: Epoch [200/1000], Loss: 1.2486\n",
      "Optimizer 2: Epoch [300/1000], Loss: 1.2486\n",
      "Optimizer 2: Epoch [400/1000], Loss: 1.2486\n",
      "Optimizer 2: Epoch [500/1000], Loss: 1.2486\n",
      "Optimizer 2: Epoch [600/1000], Loss: 1.2486\n",
      "Optimizer 2: Epoch [700/1000], Loss: 1.2486\n",
      "Optimizer 2: Epoch [800/1000], Loss: 1.2486\n",
      "Optimizer 2: Epoch [900/1000], Loss: 1.2486\n",
      "Optimizer 2: Epoch [1000/1000], Loss: 1.2486\n"
     ]
    }
   ],
   "source": [
    "import torch\n",
    "import torch.nn as nn\n",
    "import torch.optim as optim\n",
    "import numpy as np\n",
    "import matplotlib.pyplot as plt\n",
    "\n",
    "# Define a simple regression dataset\n",
    "# Suppose we have a dataset with one feature and continuous labels\n",
    "# This is just a dummy dataset for demonstration purposes\n",
    "\n",
    "X = torch.unsqueeze(torch.linspace(1, 20, 20), dim=1)\n",
    "y= 3*X + 4*torch.rand(X.size()) \n",
    "\n",
    "\n",
    "# Define the neural network model\n",
    "class NeuralNetwork(nn.Module):\n",
    "    def __init__(self):\n",
    "        super(NeuralNetwork, self).__init__()\n",
    "        self.fc1 = nn.Linear(1, 16)  # Input layer with 1 input feature and 2 hidden units\n",
    "        self.relu = nn.ReLU()       # ReLU activation function\n",
    "        self.fc2 = nn.Linear(16, 1)  # Output layer with 1 output unit\n",
    "\n",
    "    def forward(self, x):\n",
    "        x = self.fc1(x)\n",
    "        x = self.relu(x)\n",
    "        x = self.fc2(x)\n",
    "        return x\n",
    "\n",
    "# Create an instance of the model\n",
    "model01 = NeuralNetwork()\n",
    "model02 = NeuralNetwork()\n",
    "\n",
    "# set all model parameters to zero\n",
    "for param in model02.parameters():\n",
    "    param.data.fill_(0.001)\n",
    "\n",
    "# initialize the model parameters with random values\n",
    "for param in model01.parameters():\n",
    "    param.data.uniform_(-1, 1)\n",
    "    #param.data.normal_(0, 1)\n",
    "\n",
    "\n",
    "# Define the loss function (mean squared error loss)\n",
    "criterion = nn.MSELoss()\n",
    "\n",
    "# Create two separate optimizer instances with different starting points\n",
    "optimizer1 = optim.Adam(model01.parameters(), lr=0.1)\n",
    "optimizer2 = optim.Adam(model02.parameters(), lr=0.1)\n",
    "\n",
    "# Training loop for optimizer 1\n",
    "num_epochs = 1000\n",
    "for epoch in range(num_epochs):\n",
    "    # Forward pass\n",
    "    outputs = model01(X)\n",
    "    \n",
    "    # Compute the loss\n",
    "    loss = criterion(outputs, y)\n",
    "    \n",
    "    # Zero the gradients\n",
    "    optimizer1.zero_grad()\n",
    "    \n",
    "    # Backpropagation\n",
    "    loss.backward()\n",
    "    \n",
    "    # Update the weights\n",
    "    optimizer1.step()\n",
    "    \n",
    "    # Print the loss at every 100 epochs\n",
    "    if (epoch + 1) % 100 == 0:\n",
    "        print(f'Optimizer 1: Epoch [{epoch+1}/{num_epochs}], Loss: {loss.item():.4f}')\n",
    "\n",
    "# Training loop for optimizer 2\n",
    "for epoch in range(num_epochs):\n",
    "    # Forward pass\n",
    "    outputs = model02(X)\n",
    "    \n",
    "    # Compute the loss\n",
    "    loss = criterion(outputs, y)\n",
    "    \n",
    "    # Zero the gradients\n",
    "    optimizer2.zero_grad()\n",
    "    \n",
    "    # Backpropagation\n",
    "    loss.backward()\n",
    "    \n",
    "    # Update the weights\n",
    "    optimizer2.step()\n",
    "    \n",
    "    # Print the loss at every 100 epochs\n",
    "    if (epoch + 1) % 100 == 0:\n",
    "        print(f'Optimizer 2: Epoch [{epoch+1}/{num_epochs}], Loss: {loss.item():.4f}')\n"
   ]
  },
  {
   "cell_type": "code",
   "execution_count": 15,
   "metadata": {},
   "outputs": [
    {
     "name": "stdout",
     "output_type": "stream",
     "text": [
      "Predictions model1:\n",
      "tensor([[ 5.7426],\n",
      "        [ 8.3647],\n",
      "        [10.9867],\n",
      "        [13.6087],\n",
      "        [16.2307],\n",
      "        [18.8569],\n",
      "        [21.9353],\n",
      "        [25.0137],\n",
      "        [28.0920],\n",
      "        [31.1704],\n",
      "        [34.2488],\n",
      "        [37.3271],\n",
      "        [40.4055],\n",
      "        [43.4839],\n",
      "        [46.5622],\n",
      "        [49.6406],\n",
      "        [52.7189],\n",
      "        [55.7973],\n",
      "        [58.8757],\n",
      "        [61.9540]])\n",
      "Predictions model2:\n",
      "tensor([[ 4.6055],\n",
      "        [ 7.6011],\n",
      "        [10.5966],\n",
      "        [13.5922],\n",
      "        [16.5878],\n",
      "        [19.5833],\n",
      "        [22.5789],\n",
      "        [25.5745],\n",
      "        [28.5700],\n",
      "        [31.5656],\n",
      "        [34.5612],\n",
      "        [37.5567],\n",
      "        [40.5523],\n",
      "        [43.5479],\n",
      "        [46.5434],\n",
      "        [49.5390],\n",
      "        [52.5346],\n",
      "        [55.5301],\n",
      "        [58.5257],\n",
      "        [61.5213]])\n"
     ]
    },
    {
     "data": {
      "image/png": "[encoded data removed]",
      "text/plain": [
       "<Figure size 576x432 with 1 Axes>"
      ]
     },
     "metadata": {
      "needs_background": "light"
     },
     "output_type": "display_data"
    }
   ],
   "source": [
    "import numpy as np\n",
    "import matplotlib.pyplot as plt\n",
    "\n",
    "\n",
    "# Evaluate the trained model\n",
    "with torch.no_grad():    \n",
    "    predicted1 = model01(X)\n",
    "    print(\"Predictions model1:\")\n",
    "    print(predicted1)\n",
    "\n",
    "    predicted2 = model02(X)\n",
    "    print(\"Predictions model2:\")\n",
    "    print(predicted2)\n",
    "\n",
    "# Convert tensors to NumPy arrays for plotting\n",
    "X = X.numpy()\n",
    "y = y.numpy()\n",
    "predicted1 = predicted1.numpy()\n",
    "predicted2 = predicted2.numpy()\n",
    "\n",
    "# Plot the dataset and predictions\n",
    "plt.figure(figsize=(8, 6))\n",
    "plt.scatter(X, y, label='Dataset', color='blue')\n",
    "plt.plot(X, predicted1, label='Predictions model 1', color='red', marker='x')\n",
    "plt.plot(X, predicted2, label='Predictions model 2', color='green', marker='x')\n",
    "plt.xlabel('X')\n",
    "plt.ylabel('y')\n",
    "plt.legend()\n",
    "plt.title('Dataset and Predictions')\n",
    "plt.grid(True)\n",
    "plt.show()\n",
    "\n",
    "\n",
    "\n"
   ]
  },
  {
   "cell_type": "code",
   "execution_count": 18,
   "metadata": {},
   "outputs": [
    {
     "data": {
      "image/png": "[encoded data removed]",
      "text/plain": [
       "<Figure size 576x432 with 1 Axes>"
      ]
     },
     "metadata": {
      "needs_background": "light"
     },
     "output_type": "display_data"
    }
   ],
   "source": [
    "# zoom in on the plot\n",
    "plt.figure(figsize=(8, 6))\n",
    "plt.scatter(X, y, label='Dataset', color='blue')\n",
    "plt.plot(X, predicted1, label='Predictions 1', color='red', marker='x')\n",
    "plt.plot(X, predicted2, label='Predictions 2', color='green', marker='x')\n",
    "plt.xlabel('X')\n",
    "plt.ylabel('y')\n",
    "plt.legend()\n",
    "plt.title('Dataset and Predictions')\n",
    "plt.grid(True)\n",
    "plt.xlim(2.5, 6.5)\n",
    "plt.ylim(9.5, 25)\n",
    "plt.show()"
   ]
  },
  {
   "cell_type": "code",
   "execution_count": 20,
   "metadata": {},
   "outputs": [
    {
     "name": "stdout",
     "output_type": "stream",
     "text": [
      "model1 prediction for 5:\n",
      "tensor([16.2307])\n",
      "model2 prediction for 5:\n",
      "tensor([16.5878])\n"
     ]
    }
   ],
   "source": [
    "# get models prediction for x=5\n",
    "\n",
    "x5=torch.tensor([5.0])\n",
    "\n",
    "with torch.no_grad():    \n",
    "    predicted1 = model01(x5)\n",
    "    print(\"Model1 prediction for 5:\")\n",
    "    print(predicted1)\n",
    "\n",
    "    predicted2 = model02(x5)\n",
    "    print(\"Model2 prediction for 5:\")\n",
    "    print(predicted2)"
   ]
  },
  {
   "cell_type": "markdown",
   "metadata": {},
   "source": [
    "## Aleatory uncertainty in classification"
   ]
  },
  {
   "cell_type": "code",
   "execution_count": null,
   "metadata": {},
   "outputs": [],
   "source": []
  }
 ],
 "metadata": {
  "kernelspec": {
   "display_name": "Python 3",
   "language": "python",
   "name": "python3"
  },
  "language_info": {
   "codemirror_mode": {
    "name": "ipython",
    "version": 3
   },
   "file_extension": ".py",
   "mimetype": "text/x-python",
   "name": "python",
   "nbconvert_exporter": "python",
   "pygments_lexer": "ipython3",
   "version": "3.9.13"
  },
  "orig_nbformat": 4
 },
 "nbformat": 4,
 "nbformat_minor": 2
}
