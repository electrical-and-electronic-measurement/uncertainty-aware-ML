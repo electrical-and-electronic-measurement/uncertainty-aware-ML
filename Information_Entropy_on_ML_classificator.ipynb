{
  "cells": [
    {
      "cell_type": "markdown",
      "metadata": {
        "id": "G5Y-sSysCkJ1"
      },
      "source": [
        "# Information Entropy as uncertainty metrics"
      ]
    },
    {
      "cell_type": "code",
      "execution_count": 1,
      "metadata": {
        "id": "NhfZJtFbDDUE"
      },
      "outputs": [],
      "source": [
        "import torch\n",
        "import torch.nn as nn\n",
        "import torch.optim as optim\n",
        "import torchvision\n",
        "import torchvision.transforms as transforms\n",
        "import numpy as np"
      ]
    },
    {
      "cell_type": "code",
      "execution_count": 2,
      "metadata": {
        "id": "tux3S1ZICeFF"
      },
      "outputs": [],
      "source": [
        "# Step 4: Calculate the entropy on a discrete probability distribution\n",
        "def entropy(probs):\n",
        "    entropy = -torch.sum(probs * torch.log2(probs + 1e-10), dim=1)\n",
        "    return entropy"
      ]
    },
    {
      "cell_type": "code",
      "execution_count": 3,
      "metadata": {
        "id": "Gd9bVf1fGS0m"
      },
      "outputs": [],
      "source": [
        "import torch.nn as nn\n",
        "import torch.nn.functional as F\n",
        "\n",
        "class ImageClassificationBase(nn.Module):\n",
        "\n",
        "    def training_step(self, batch):\n",
        "        images, labels = batch\n",
        "        images, labels = images.to(device), labels.to(device)\n",
        "        out = self(images)                  # Generate predictions\n",
        "        loss = F.cross_entropy(out, labels) # Calculate loss\n",
        "        return loss\n",
        "\n",
        "    def validation_step(self, batch):\n",
        "        images, labels = batch\n",
        "        images, labels = images.to(device), labels.to(device)\n",
        "        out = self(images)                    # Generate predictions\n",
        "        loss = F.cross_entropy(out, labels)   # Calculate loss\n",
        "        acc = accuracy(out, labels)           # Calculate accuracy\n",
        "        return {'val_loss': loss.detach(), 'val_acc': acc}\n",
        "\n",
        "    def validation_epoch_end(self, outputs):\n",
        "        batch_losses = [x['val_loss'] for x in outputs]\n",
        "        epoch_loss = torch.stack(batch_losses).mean()   # Combine losses\n",
        "        batch_accs = [x['val_acc'] for x in outputs]\n",
        "        epoch_acc = torch.stack(batch_accs).mean()      # Combine accuracies\n",
        "        return {'val_loss': epoch_loss.item(), 'val_acc': epoch_acc.item()}\n",
        "\n",
        "    def epoch_end(self, epoch, result):\n",
        "        print(\"Epoch [{}], train_loss: {:.4f}, val_loss: {:.4f}, val_acc: {:.4f}\".format(\n",
        "            epoch, result['train_loss'], result['val_loss'], result['val_acc']))"
      ]
    },
    {
      "cell_type": "code",
      "execution_count": 4,
      "metadata": {
        "id": "w4JS6xmoGcfA"
      },
      "outputs": [],
      "source": [
        "class Cifar10CnnModel(ImageClassificationBase):\n",
        "    def __init__(self):\n",
        "        super().__init__()\n",
        "        self.network = nn.Sequential(\n",
        "            nn.Conv2d(3, 32, kernel_size=3, padding=1),\n",
        "            nn.ReLU(),\n",
        "            nn.Conv2d(32, 64, kernel_size=3, stride=1, padding=1),\n",
        "            nn.ReLU(),\n",
        "            nn.MaxPool2d(2, 2), # output: 64 x 16 x 16\n",
        "\n",
        "            nn.Conv2d(64, 128, kernel_size=3, stride=1, padding=1),\n",
        "            nn.ReLU(),\n",
        "            nn.Conv2d(128, 128, kernel_size=3, stride=1, padding=1),\n",
        "            nn.ReLU(),\n",
        "            nn.MaxPool2d(2, 2), # output: 128 x 8 x 8\n",
        "\n",
        "            nn.Conv2d(128, 256, kernel_size=3, stride=1, padding=1),\n",
        "            nn.ReLU(),\n",
        "            nn.Conv2d(256, 256, kernel_size=3, stride=1, padding=1),\n",
        "            nn.ReLU(),\n",
        "            nn.MaxPool2d(2, 2), # output: 256 x 4 x 4\n",
        "\n",
        "            nn.Flatten(),\n",
        "            nn.Linear(256*4*4, 1024),\n",
        "            nn.ReLU(),\n",
        "            nn.Linear(1024, 512),\n",
        "            nn.ReLU(),\n",
        "            nn.Linear(512, 10))\n",
        "\n",
        "    def forward(self, xb):\n",
        "        return self.network(xb)"
      ]
    },
    {
      "cell_type": "code",
      "execution_count": 5,
      "metadata": {
        "id": "g04uTxTSGrgA"
      },
      "outputs": [],
      "source": [
        "def accuracy(outputs, labels):\n",
        "    _, preds = torch.max(outputs, dim=1)\n",
        "    return torch.tensor(torch.sum(preds == labels).item() / len(preds))\n",
        "\n",
        "\n",
        "@torch.no_grad()\n",
        "def evaluate(model, val_loader):\n",
        "    model.eval()\n",
        "    outputs = [model.validation_step(batch) for batch in val_loader]\n",
        "    return model.validation_epoch_end(outputs)\n",
        "\n",
        "\n",
        "def fit(epochs, lr, model, train_loader, val_loader, opt_func = torch.optim.SGD):\n",
        "\n",
        "    history = []\n",
        "    optimizer = opt_func(model.parameters(),lr)\n",
        "    for epoch in range(epochs):\n",
        "\n",
        "        model.train()\n",
        "        train_losses = []\n",
        "        for batch in train_loader:\n",
        "            loss = model.training_step(batch)\n",
        "            train_losses.append(loss)\n",
        "            loss.backward()\n",
        "            optimizer.step()\n",
        "            optimizer.zero_grad()\n",
        "\n",
        "        result = evaluate(model, val_loader)\n",
        "        result['train_loss'] = torch.stack(train_losses).mean().item()\n",
        "        model.epoch_end(epoch, result)\n",
        "        history.append(result)\n",
        "\n",
        "    return history"
      ]
    },
    {
      "cell_type": "code",
      "execution_count": 6,
      "metadata": {
        "colab": {
          "base_uri": "https://localhost:8080/"
        },
        "id": "QPclFLSnHNX7",
        "outputId": "6f7d7aab-491f-4c0d-b5a5-561cdab08a24"
      },
      "outputs": [
        {
          "name": "stdout",
          "output_type": "stream",
          "text": [
            "Files already downloaded and verified\n"
          ]
        }
      ],
      "source": [
        "\n",
        "# Step 1: Load the CIFAR-10 dataset\n",
        "transform = transforms.Compose([transforms.ToTensor(), transforms.Normalize((0.5, 0.5, 0.5), (0.5, 0.5, 0.5))])\n",
        "batch_size = 64\n",
        "\n",
        "trainset = torchvision.datasets.CIFAR10(root='./data', train=True, download=True, transform=transform)\n",
        "trainloader = torch.utils.data.DataLoader(trainset, batch_size=batch_size, shuffle=True)"
      ]
    },
    {
      "cell_type": "code",
      "execution_count": 7,
      "metadata": {
        "colab": {
          "base_uri": "https://localhost:8080/"
        },
        "id": "GhSn3RHnI6Gz",
        "outputId": "4538e643-6f07-4605-d10c-fd960be78a72"
      },
      "outputs": [
        {
          "name": "stdout",
          "output_type": "stream",
          "text": [
            "Files already downloaded and verified\n"
          ]
        }
      ],
      "source": [
        "# Step 1: Load the test dataset\n",
        "testset = torchvision.datasets.CIFAR10(root='./data', train=False, download=True, transform=transform)\n",
        "testloader = torch.utils.data.DataLoader(testset, batch_size=batch_size, shuffle=False)\n"
      ]
    },
    {
      "cell_type": "code",
      "execution_count": 8,
      "metadata": {
        "colab": {
          "base_uri": "https://localhost:8080/"
        },
        "id": "9KIjz62hImiM",
        "outputId": "a3272ece-9180-4f5f-a74f-751454870248"
      },
      "outputs": [
        {
          "name": "stdout",
          "output_type": "stream",
          "text": [
            "The model will be running on cuda:0 device\n"
          ]
        }
      ],
      "source": [
        "device = torch.device(\"cuda:0\" if torch.cuda.is_available() else \"cpu\")\n",
        "model = Cifar10CnnModel().to(device)\n",
        "print(\"The model will be running on\", device, \"device\")"
      ]
    },
    {
      "cell_type": "markdown",
      "metadata": {
        "id": "t_I5WnXzGxp7"
      },
      "source": [
        "# Train"
      ]
    },
    {
      "cell_type": "code",
      "execution_count": 9,
      "metadata": {
        "colab": {
          "base_uri": "https://localhost:8080/"
        },
        "id": "MJ9I8UF_GzUd",
        "outputId": "1a88e1ac-b83b-4426-c027-328e9d549a20"
      },
      "outputs": [
        {
          "name": "stdout",
          "output_type": "stream",
          "text": [
            "Epoch [0], train_loss: 1.7436, val_loss: 1.3841, val_acc: 0.4795\n",
            "Epoch [1], train_loss: 1.1626, val_loss: 1.0159, val_acc: 0.6383\n",
            "Epoch [2], train_loss: 0.8860, val_loss: 0.9189, val_acc: 0.6868\n",
            "Epoch [3], train_loss: 0.7076, val_loss: 0.7702, val_acc: 0.7404\n",
            "Epoch [4], train_loss: 0.5721, val_loss: 0.7427, val_acc: 0.7490\n"
          ]
        }
      ],
      "source": [
        "num_epochs = 5\n",
        "opt_func = torch.optim.Adam\n",
        "lr = 0.001\n",
        "#fitting the model on training data and record the result after each epoch\n",
        "history = fit(num_epochs, lr, model, trainloader, testloader, opt_func)"
      ]
    },
    {
      "cell_type": "code",
      "execution_count": 41,
      "metadata": {
        "colab": {
          "base_uri": "https://localhost:8080/",
          "height": 472
        },
        "id": "jnieQNJvLNEW",
        "outputId": "e5bdb4d9-6d41-4c20-b061-097ec01b32eb"
      },
      "outputs": [
        {
          "data": {
            "image/png": "[encoded data removed]",
            "text/plain": [
              "<Figure size 640x480 with 1 Axes>"
            ]
          },
          "metadata": {},
          "output_type": "display_data"
        }
      ],
      "source": [
        "import matplotlib.pyplot as plt\n",
        "\n",
        "def plot_accuracies(history):\n",
        "    \"\"\" Plot the history of accuracies\"\"\"\n",
        "    accuracies = [x['val_acc'] for x in history]\n",
        "    plt.plot(accuracies, '-x')\n",
        "    plt.xlabel('epoch')\n",
        "    plt.ylabel('accuracy')\n",
        "    plt.title('Accuracy vs. No. of epochs');\n",
        "\n",
        "\n",
        "def plot_metrics(history):\n",
        "    \"\"\" Plot the losses in each epoch\"\"\"\n",
        "    train_losses = [x.get('train_loss') for x in history]\n",
        "    val_losses = [x['val_loss'] for x in history]\n",
        "    accuracies = [x['val_acc'] for x in history]\n",
        "    plt.plot(train_losses, '-bx')\n",
        "    plt.plot(val_losses, '-rx')\n",
        "    plt.plot(accuracies, '-x')\n",
        "    plt.xlabel('epoch')\n",
        "    plt.ylabel('training metrics')\n",
        "    plt.legend(['Training', 'Validation','Accuracy'])\n",
        "    plt.title('Loss vs. No. of epochs');\n",
        "\n",
        "plot_metrics(history)\n"
      ]
    },
    {
      "cell_type": "code",
      "execution_count": 11,
      "metadata": {
        "id": "UtV1uETkOj60"
      },
      "outputs": [],
      "source": [
        "# Define a function to calculate entropy for each prediction\n",
        "def evaluate_model(model, dataloader):\n",
        "    model.eval()\n",
        "    entropies = []\n",
        "\n",
        "    with torch.no_grad():\n",
        "        for data in dataloader:\n",
        "            inputs, labels = data\n",
        "            inputs = inputs.to(device)\n",
        "            outputs = model(inputs)\n",
        "            probs = torch.softmax(outputs, dim=1)\n",
        "\n",
        "    return inputs,labels,outputs,probs"
      ]
    },
    {
      "cell_type": "code",
      "execution_count": 12,
      "metadata": {
        "id": "1NImlV4yPLeR"
      },
      "outputs": [],
      "source": [
        "# Call the function to calculate entropies for each prediction\n",
        "inputs,labels,outputs,probs = evaluate_model(model, testloader)\n",
        "predicted = torch.max(outputs, 1)\n"
      ]
    },
    {
      "cell_type": "code",
      "execution_count": 13,
      "metadata": {
        "colab": {
          "base_uri": "https://localhost:8080/"
        },
        "id": "hqgtV3c-QBrI",
        "outputId": "19938bcc-83ce-41b7-d711-3fb1087a5f63"
      },
      "outputs": [
        {
          "data": {
            "text/plain": [
              "torch.return_types.max(\n",
              "values=tensor([ 5.4748,  1.5131,  5.8238,  3.5817, 12.6695,  6.1279,  3.8121,  6.7762,\n",
              "         5.3907,  6.7046,  2.8479,  2.5041,  2.8239,  8.7816,  1.0366, 14.6479],\n",
              "       device='cuda:0'),\n",
              "indices=tensor([7, 3, 8, 0, 8, 4, 7, 0, 3, 5, 3, 0, 3, 5, 1, 7], device='cuda:0'))"
            ]
          },
          "execution_count": 13,
          "metadata": {},
          "output_type": "execute_result"
        }
      ],
      "source": [
        "predicted"
      ]
    },
    {
      "cell_type": "code",
      "execution_count": 14,
      "metadata": {
        "colab": {
          "base_uri": "https://localhost:8080/"
        },
        "id": "2_5a2egKQKT0",
        "outputId": "f5541398-5371-4fdc-c351-20bc5246f412"
      },
      "outputs": [
        {
          "data": {
            "text/plain": [
              "tensor([7, 5, 8, 0, 8, 2, 7, 0, 3, 5, 3, 8, 3, 5, 1, 7])"
            ]
          },
          "execution_count": 14,
          "metadata": {},
          "output_type": "execute_result"
        }
      ],
      "source": [
        "labels"
      ]
    },
    {
      "cell_type": "markdown",
      "metadata": {
        "id": "ToDa3TN-ct6H"
      },
      "source": [
        "le predizioni indice 1,5, sono errate"
      ]
    },
    {
      "cell_type": "code",
      "execution_count": 15,
      "metadata": {
        "colab": {
          "base_uri": "https://localhost:8080/"
        },
        "id": "4RKz1g3tSCdO",
        "outputId": "8f3d0682-f42c-4a52-986d-7c18cf81b447"
      },
      "outputs": [
        {
          "data": {
            "text/plain": [
              "['airplane',\n",
              " 'automobile',\n",
              " 'bird',\n",
              " 'cat',\n",
              " 'deer',\n",
              " 'dog',\n",
              " 'frog',\n",
              " 'horse',\n",
              " 'ship',\n",
              " 'truck']"
            ]
          },
          "execution_count": 15,
          "metadata": {},
          "output_type": "execute_result"
        }
      ],
      "source": [
        "trainset.classes"
      ]
    },
    {
      "cell_type": "code",
      "execution_count": 16,
      "metadata": {
        "id": "5gNxeVSoR25t"
      },
      "outputs": [],
      "source": [
        "def display_img(dataset,img,label,predicted_label):\n",
        "    print(f\"True Label : {dataset.classes[label]}\")\n",
        "    print(f\"Predicted Label : {dataset.classes[predicted_label]}\")\n",
        "    cpu_img= img.cpu()\n",
        "    plt.imshow(cpu_img.permute(1,2,0))\n",
        "\n"
      ]
    },
    {
      "cell_type": "code",
      "execution_count": 17,
      "metadata": {
        "colab": {
          "base_uri": "https://localhost:8080/",
          "height": 482
        },
        "id": "bRRCHd_ySRy9",
        "outputId": "3804016d-3f62-4a68-df2e-659d1e1e739a"
      },
      "outputs": [
        {
          "name": "stderr",
          "output_type": "stream",
          "text": [
            "WARNING:matplotlib.image:Clipping input data to the valid range for imshow with RGB data ([0..1] for floats or [0..255] for integers).\n"
          ]
        },
        {
          "name": "stdout",
          "output_type": "stream",
          "text": [
            "True Label : bird\n",
            "Predicted Label : deer\n"
          ]
        },
        {
          "data": {
            "image/png": "[encoded data removed]",
            "text/plain": [
              "<Figure size 640x480 with 1 Axes>"
            ]
          },
          "metadata": {},
          "output_type": "display_data"
        }
      ],
      "source": [
        "#display image in the dataset\n",
        "display_img(trainset,inputs[5],labels[5],predicted[1][5])"
      ]
    },
    {
      "cell_type": "code",
      "execution_count": 42,
      "metadata": {
        "colab": {
          "base_uri": "https://localhost:8080/",
          "height": 482
        },
        "id": "BXh7nkJKc1YN",
        "outputId": "f076f127-ab5e-44d3-8ba6-1f150e625113"
      },
      "outputs": [
        {
          "name": "stderr",
          "output_type": "stream",
          "text": [
            "WARNING:matplotlib.image:Clipping input data to the valid range for imshow with RGB data ([0..1] for floats or [0..255] for integers).\n"
          ]
        },
        {
          "name": "stdout",
          "output_type": "stream",
          "text": [
            "True Label : dog\n",
            "Predicted Label : cat\n"
          ]
        },
        {
          "data": {
            "image/png": "[encoded data removed]",
            "text/plain": [
              "<Figure size 640x480 with 1 Axes>"
            ]
          },
          "metadata": {},
          "output_type": "display_data"
        }
      ],
      "source": [
        "display_img(trainset,inputs[1],labels[1],predicted[1][1])"
      ]
    },
    {
      "cell_type": "code",
      "execution_count": 19,
      "metadata": {
        "colab": {
          "base_uri": "https://localhost:8080/",
          "height": 482
        },
        "id": "G1wX--D0cNnP",
        "outputId": "9efbe204-329c-4cab-9b82-4e3c52c1e28f"
      },
      "outputs": [
        {
          "name": "stdout",
          "output_type": "stream",
          "text": [
            "True Label : dog\n",
            "Predicted Label : airplane\n"
          ]
        },
        {
          "name": "stderr",
          "output_type": "stream",
          "text": [
            "WARNING:matplotlib.image:Clipping input data to the valid range for imshow with RGB data ([0..1] for floats or [0..255] for integers).\n"
          ]
        },
        {
          "data": {
            "image/png": "[encoded data removed]",
            "text/plain": [
              "<Figure size 640x480 with 1 Axes>"
            ]
          },
          "metadata": {},
          "output_type": "display_data"
        }
      ],
      "source": [
        "display_img(trainset,inputs[11],labels[1],predicted[1][11])"
      ]
    },
    {
      "cell_type": "code",
      "execution_count": 20,
      "metadata": {
        "colab": {
          "base_uri": "https://localhost:8080/"
        },
        "id": "ShmvAyiPUuI2",
        "outputId": "b1723329-243e-4af1-b51a-31190047fc8a"
      },
      "outputs": [
        {
          "data": {
            "text/plain": [
              "tensor([1.5762e-04, 3.9288e-07, 6.8684e-03, 1.4908e-03, 9.8294e-01, 2.5957e-03,\n",
              "        2.5673e-04, 5.6811e-03, 1.5046e-06, 3.2614e-06], device='cuda:0')"
            ]
          },
          "execution_count": 20,
          "metadata": {},
          "output_type": "execute_result"
        }
      ],
      "source": [
        "probs[5]"
      ]
    },
    {
      "cell_type": "code",
      "execution_count": 43,
      "metadata": {
        "colab": {
          "base_uri": "https://localhost:8080/"
        },
        "id": "Fp0wkjIiVSi4",
        "outputId": "62cca47c-004a-4e8f-e024-ffa8ca6b681d"
      },
      "outputs": [
        {
          "data": {
            "text/plain": [
              "tensor([0.0036, 0.1107, 0.0051, 0.3451, 0.0009, 0.1234, 0.0096, 0.0037, 0.2886,\n",
              "        0.1094], device='cuda:0')"
            ]
          },
          "execution_count": 43,
          "metadata": {},
          "output_type": "execute_result"
        }
      ],
      "source": [
        "probs[1]"
      ]
    },
    {
      "cell_type": "code",
      "execution_count": 44,
      "metadata": {
        "colab": {
          "base_uri": "https://localhost:8080/"
        },
        "id": "vKJrWg5XjMpp",
        "outputId": "35a26376-2850-4c3f-a4d8-faa70a0ec604"
      },
      "outputs": [
        {
          "data": {
            "text/plain": [
              "tensor([5.0947e-01, 1.3706e-05, 1.4639e-02, 2.6451e-01, 6.3813e-03, 1.6665e-01,\n",
              "        9.1571e-04, 2.1114e-03, 3.5081e-02, 2.2920e-04], device='cuda:0')"
            ]
          },
          "execution_count": 44,
          "metadata": {},
          "output_type": "execute_result"
        }
      ],
      "source": [
        "probs[11]"
      ]
    },
    {
      "cell_type": "code",
      "execution_count": 23,
      "metadata": {
        "id": "Evc7mO4xV_Sk"
      },
      "outputs": [],
      "source": [
        "def entropy(probabilities):\n",
        "    # Ensure that the probabilities sum to 1.0\n",
        "    if sum(probabilities)-1.0 > 0.001:\n",
        "        raise ValueError(\"Probabilities must sum to 1.0\")\n",
        "\n",
        "    # Initialize the entropy value\n",
        "    entropy_value = 0\n",
        "\n",
        "    # Calculate the entropy using the formula\n",
        "    for p in probabilities:\n",
        "        if p > 0:\n",
        "            entropy_value -= p * math.log2(p)\n",
        "\n",
        "    return entropy_value"
      ]
    },
    {
      "cell_type": "code",
      "execution_count": 24,
      "metadata": {
        "colab": {
          "base_uri": "https://localhost:8080/"
        },
        "id": "hM6InArJVeD8",
        "outputId": "ffb66724-71bd-418d-9673-e42daf8b55c5"
      },
      "outputs": [
        {
          "data": {
            "text/plain": [
              "tensor(0.1576, device='cuda:0')"
            ]
          },
          "execution_count": 24,
          "metadata": {},
          "output_type": "execute_result"
        }
      ],
      "source": [
        "import math\n",
        "entropy(probs[5])"
      ]
    },
    {
      "cell_type": "code",
      "execution_count": 25,
      "metadata": {
        "colab": {
          "base_uri": "https://localhost:8080/"
        },
        "id": "iHDaSPL_WLl2",
        "outputId": "12baba2e-84ea-4df5-c3db-06289123eb57"
      },
      "outputs": [
        {
          "data": {
            "text/plain": [
              "tensor(0.3795, device='cuda:0')"
            ]
          },
          "execution_count": 25,
          "metadata": {},
          "output_type": "execute_result"
        }
      ],
      "source": [
        "entropy(probs[0])"
      ]
    },
    {
      "cell_type": "code",
      "execution_count": 26,
      "metadata": {
        "colab": {
          "base_uri": "https://localhost:8080/"
        },
        "id": "0YN6h9OzWuqE",
        "outputId": "2b4d9b7f-d1be-487f-fe35-e5272287794f"
      },
      "outputs": [
        {
          "data": {
            "text/plain": [
              "tensor([0.0036, 0.1107, 0.0051, 0.3451, 0.0009, 0.1234, 0.0096, 0.0037, 0.2886,\n",
              "        0.1094], device='cuda:0')"
            ]
          },
          "execution_count": 26,
          "metadata": {},
          "output_type": "execute_result"
        }
      ],
      "source": [
        "probs[1]"
      ]
    },
    {
      "cell_type": "code",
      "execution_count": 27,
      "metadata": {
        "colab": {
          "base_uri": "https://localhost:8080/"
        },
        "id": "pg4Y1EycXF1K",
        "outputId": "58640331-4431-49b6-8c9f-2712fa2c25ea"
      },
      "outputs": [
        {
          "data": {
            "text/plain": [
              "tensor(2.2914, device='cuda:0')"
            ]
          },
          "execution_count": 27,
          "metadata": {},
          "output_type": "execute_result"
        }
      ],
      "source": [
        "entropy(probs[1])"
      ]
    },
    {
      "cell_type": "code",
      "execution_count": 28,
      "metadata": {
        "colab": {
          "base_uri": "https://localhost:8080/"
        },
        "id": "Lb136CHeW1e7",
        "outputId": "f13efb5f-648a-45e3-8724-8ad24696a304"
      },
      "outputs": [
        {
          "data": {
            "text/plain": [
              "2.321928094887362"
            ]
          },
          "execution_count": 28,
          "metadata": {},
          "output_type": "execute_result"
        }
      ],
      "source": [
        "entropy([0.2,0.2,0.2,0.2,0.2])"
      ]
    },
    {
      "cell_type": "code",
      "execution_count": 29,
      "metadata": {
        "colab": {
          "base_uri": "https://localhost:8080/"
        },
        "id": "xJmx1JfZXQO0",
        "outputId": "c9dfcd44-b60f-43f3-9bdf-ed75cdd75102"
      },
      "outputs": [
        {
          "data": {
            "text/plain": [
              "1.0"
            ]
          },
          "execution_count": 29,
          "metadata": {},
          "output_type": "execute_result"
        }
      ],
      "source": [
        "entropy([0.5,0.5])"
      ]
    },
    {
      "cell_type": "code",
      "execution_count": 30,
      "metadata": {
        "id": "EGMQdiWAXuxh"
      },
      "outputs": [],
      "source": [
        "def create_uniform_distribution(n):\n",
        "    if n <= 0:\n",
        "        return []  # Return an empty list if n is not positive\n",
        "\n",
        "    value = 1 / n\n",
        "    result_list = [value] * n\n",
        "    return result_list\n",
        "\n",
        "\n"
      ]
    },
    {
      "cell_type": "code",
      "execution_count": 31,
      "metadata": {
        "colab": {
          "base_uri": "https://localhost:8080/"
        },
        "id": "98K-V8mgX2hP",
        "outputId": "b853ec7b-0196-4aa2-8e1d-08a3d449bde8"
      },
      "outputs": [
        {
          "name": "stdout",
          "output_type": "stream",
          "text": [
            "[0.2, 0.2, 0.2, 0.2, 0.2]\n"
          ]
        }
      ],
      "source": [
        "# Example usage\n",
        "n = 5\n",
        "result = create_uniform_distribution(n)\n",
        "print(result)  # Output: [0.2, 0.2, 0.2, 0.2, 0.2]"
      ]
    },
    {
      "cell_type": "markdown",
      "metadata": {
        "id": "gkkkG9qAdQ1Z"
      },
      "source": [
        "il valore massimo che può assumere l'entropia di classificazione varia in base al numero delle classi"
      ]
    },
    {
      "cell_type": "code",
      "execution_count": 32,
      "metadata": {
        "colab": {
          "base_uri": "https://localhost:8080/",
          "height": 564
        },
        "id": "mQzpf9CkYZm3",
        "outputId": "a6a6aa90-7c27-4324-e319-cfd783e82045"
      },
      "outputs": [
        {
          "data": {
            "image/png": "[encoded data removed]",
            "text/plain": [
              "<Figure size 1000x600 with 1 Axes>"
            ]
          },
          "metadata": {},
          "output_type": "display_data"
        }
      ],
      "source": [
        "# Calculate entropy for values of n from 1 to 100\n",
        "entropy_values = []\n",
        "n_values=list(range(1, 101))\n",
        "for n in n_values:\n",
        "  n_value_dist= create_uniform_distribution(n)\n",
        "  entropy_values.append(entropy(n_value_dist))\n",
        "\n",
        "# Plot the entropy vs. n\n",
        "plt.figure(figsize=(10, 6))\n",
        "plt.plot(n_values, entropy_values, marker='o', linestyle='-')\n",
        "plt.title('Entropy vs. n')\n",
        "plt.xlabel('n')\n",
        "plt.ylabel('Entropy')\n",
        "plt.grid()\n",
        "plt.show()"
      ]
    },
    {
      "cell_type": "code",
      "execution_count": 33,
      "metadata": {
        "id": "1Vm5LrG0ZY03"
      },
      "outputs": [],
      "source": [
        "#maximum entropy value for 10 classes\n",
        "\n",
        "max_entropy=entropy(create_uniform_distribution(len(trainset.classes)))"
      ]
    },
    {
      "cell_type": "code",
      "execution_count": 34,
      "metadata": {
        "colab": {
          "base_uri": "https://localhost:8080/"
        },
        "id": "tP4ZctyyZt1Q",
        "outputId": "ae102571-88b7-4eb1-b895-449e80cdc389"
      },
      "outputs": [
        {
          "data": {
            "text/plain": [
              "3.321928094887362"
            ]
          },
          "execution_count": 34,
          "metadata": {},
          "output_type": "execute_result"
        }
      ],
      "source": [
        "max_entropy"
      ]
    },
    {
      "cell_type": "markdown",
      "metadata": {
        "id": "6C-dn6KYdcvs"
      },
      "source": [
        "Definisco una metrica \"normalizzata\" rispetto al valore massimo possibile per il numeor di classi previste dal classificatore in modo da avere valori conforntabili tra classificatori diversi\n",
        "\n",
        "classification_entropy= entropy(probs[idx])/max_entropy"
      ]
    },
    {
      "cell_type": "markdown",
      "metadata": {
        "id": "hDFcg_nidx_X"
      },
      "source": [
        "Ora vado a calcolare la classification entropy per questo esempio con CIFAR10"
      ]
    },
    {
      "cell_type": "code",
      "execution_count": 35,
      "metadata": {
        "colab": {
          "base_uri": "https://localhost:8080/"
        },
        "id": "_pjgpekbZxrw",
        "outputId": "8cac3ade-dd7f-4cb1-e5a6-589a3365f8e9"
      },
      "outputs": [
        {
          "name": "stdout",
          "output_type": "stream",
          "text": [
            "classification_entropy  tensor(0.1142, device='cuda:0')  output  0\n",
            "classification_entropy  tensor(0.6898, device='cuda:0')  output  1\n",
            "classification_entropy  tensor(0.0223, device='cuda:0')  output  2\n",
            "classification_entropy  tensor(0.3536, device='cuda:0')  output  3\n",
            "classification_entropy  tensor(1.6353e-05, device='cuda:0')  output  4\n",
            "classification_entropy  tensor(0.0474, device='cuda:0')  output  5\n",
            "classification_entropy  tensor(0.2544, device='cuda:0')  output  6\n",
            "classification_entropy  tensor(0.2907, device='cuda:0')  output  7\n",
            "classification_entropy  tensor(0.1145, device='cuda:0')  output  8\n",
            "classification_entropy  tensor(0.1250, device='cuda:0')  output  9\n",
            "classification_entropy  tensor(0.4078, device='cuda:0')  output  10\n",
            "classification_entropy  tensor(0.5329, device='cuda:0')  output  11\n",
            "classification_entropy  tensor(0.5447, device='cuda:0')  output  12\n",
            "classification_entropy  tensor(0.0048, device='cuda:0')  output  13\n",
            "classification_entropy  tensor(0.6399, device='cuda:0')  output  14\n",
            "classification_entropy  tensor(5.4961e-05, device='cuda:0')  output  15\n"
          ]
        }
      ],
      "source": [
        "for idx in range(0, len(probs)):\n",
        "  classification_entropy= entropy(probs[idx])/max_entropy\n",
        "  print(\"classification_entropy \",classification_entropy,\" output \", idx)"
      ]
    },
    {
      "cell_type": "markdown",
      "metadata": {
        "id": "JWPMVaC3eDCp"
      },
      "source": [
        "le predizioni 1, 5,11  sono errate. Ipotizzando di segliere come soglia di allerta classification_entropy = 0.5 posso costruire un rilevatore di previsioni ad alta incertezza. ottengo: 1 FP (output 14) , 2 TP (output 11 ,1), 1 FN (output 5), 12 TN (tutti gli altri)"
      ]
    },
    {
      "cell_type": "markdown",
      "metadata": {
        "id": "lJ7Ok4RcfMU3"
      },
      "source": [
        "\\text{Accuracy} = \\frac{\\text{Number of correct predictions}}{\\text{Total number of predictions}}"
      ]
    },
    {
      "cell_type": "code",
      "execution_count": 45,
      "metadata": {
        "colab": {
          "base_uri": "https://localhost:8080/"
        },
        "id": "zDBSb3P6d8H8",
        "outputId": "62966da5-e220-49ca-cd66-a84d7f9535e4"
      },
      "outputs": [
        {
          "data": {
            "text/plain": [
              "0.875"
            ]
          },
          "execution_count": 45,
          "metadata": {},
          "output_type": "execute_result"
        }
      ],
      "source": [
        "14/16"
      ]
    },
    {
      "cell_type": "markdown",
      "metadata": {
        "id": "hL8Q-G8ufjte"
      },
      "source": [
        "$$ \\text{Precision} = \\frac{TP}{TP+FP}"
      ]
    },
    {
      "cell_type": "code",
      "execution_count": 37,
      "metadata": {
        "colab": {
          "base_uri": "https://localhost:8080/"
        },
        "id": "nN7iqPSYfkyE",
        "outputId": "60405872-e4a8-4ca6-de9e-b5fa33373300"
      },
      "outputs": [
        {
          "data": {
            "text/plain": [
              "0.6666666666666666"
            ]
          },
          "execution_count": 37,
          "metadata": {},
          "output_type": "execute_result"
        }
      ],
      "source": [
        "2/(2+1)"
      ]
    },
    {
      "cell_type": "markdown",
      "metadata": {
        "id": "ztP_5BUmf4kj"
      },
      "source": [
        "\\text{Recall} = \\frac{TP}{TP+FN}"
      ]
    },
    {
      "cell_type": "code",
      "execution_count": 46,
      "metadata": {
        "colab": {
          "base_uri": "https://localhost:8080/"
        },
        "id": "6DLxxps3f5T_",
        "outputId": "a43eddda-485e-4346-a26a-7e5786e98e80"
      },
      "outputs": [
        {
          "data": {
            "text/plain": [
              "0.6666666666666666"
            ]
          },
          "execution_count": 46,
          "metadata": {},
          "output_type": "execute_result"
        }
      ],
      "source": [
        "2/(2+1)"
      ]
    }
  ],
  "metadata": {
    "accelerator": "GPU",
    "colab": {
      "gpuType": "T4",
      "provenance": []
    },
    "kernelspec": {
      "display_name": "Python 3",
      "name": "python3"
    },
    "language_info": {
      "name": "python"
    }
  },
  "nbformat": 4,
  "nbformat_minor": 0
}
